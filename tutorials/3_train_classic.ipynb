{
 "cells": [
  {
   "cell_type": "code",
   "execution_count": 1,
   "metadata": {},
   "outputs": [],
   "source": [
    "%load_ext autoreload\n",
    "%autoreload 2"
   ]
  },
  {
   "cell_type": "code",
   "execution_count": 2,
   "metadata": {},
   "outputs": [],
   "source": [
    "import torch\n",
    "import molpy as mp"
   ]
  },
  {
   "cell_type": "code",
   "execution_count": 3,
   "metadata": {},
   "outputs": [],
   "source": [
    "ff = mp.ForceField()\n",
    "atomstyle = ff.def_atom_style('full')\n",
    "\n",
    "O = atomstyle.def_atom_type(1, mass=15.999)\n",
    "H = atomstyle.def_atom_type(2, mass=1.008)"
   ]
  },
  {
   "cell_type": "code",
   "execution_count": 8,
   "metadata": {},
   "outputs": [],
   "source": [
    "bondstyle = ff.def_bond_style('harmonic', mix=None)\n",
    "\n",
    "bondstyle.def_bond_type(id=0, idx_i=0, idx_j=1, k0=1, r0=1)\n",
    "bondstyle.def_bond_type(id=1, idx_i=1, idx_j=2, k0=2, r0=2)\n",
    "\n",
    "k0 = bondstyle.get_bondtype_params('k0')\n",
    "assert k0.shape == (3, 3)\n",
    "assert k0[0, 0] == 0"
   ]
  },
  {
   "cell_type": "code",
   "execution_count": 22,
   "metadata": {},
   "outputs": [
    {
     "name": "stdout",
     "output_type": "stream",
     "text": [
      "[[3.  2.  2.5]\n",
      " [2.  1.  1.5]\n",
      " [2.5 1.5 2. ]]\n"
     ]
    }
   ],
   "source": [
    "pairstyle = ff.def_pairstyle('lj/cut', mix='arithmetic')\n",
    "pairstyle.def_pairtype(1, 0, 0, epsilon=3, sigma=3)\n",
    "pairstyle.def_pairtype(2, 1, 1, epsilon=1, sigma=1)\n",
    "pairstyle.def_pairtype(3, 2, 2, epsilon=2, sigma=2)\n",
    "\n",
    "epsilon = pairstyle.get_pairtype_params('epsilon')\n",
    "print(epsilon)\n",
    "assert epsilon.shape == (3, 3)\n",
    "assert epsilon[0, 0] == 3\n",
    "assert epsilon[0, 1] == 2"
   ]
  },
  {
   "cell_type": "code",
   "execution_count": null,
   "metadata": {},
   "outputs": [],
   "source": [
    "pair_pot = mpot.classical.pair.LJ126(eps=epsilon, sig=sigma, cutoff=pairstyle['cutoff'])\n",
    "\n",
    "inputs = dict(\n",
    "    dij = torch.randn((5, )),\n",
    "    atomtype = torch.randint(0, 3, (5,)),\n",
    ")\n",
    "\n",
    "pair_energy = pair_pot(inputs)"
   ]
  },
  {
   "cell_type": "code",
   "execution_count": null,
   "metadata": {},
   "outputs": [],
   "source": [
    "bond_pot = mpot.classical.bond.Harmonic(k0=bondstyle['k0'], r0=bondstyle['r0'])\n",
    "inputs.update(dict(\n",
    "    bond_i = torch.randint(0, 3, (5,)),\n",
    "    bond_j = torch.randint(0, 3, (5,)),\n",
    "))\n",
    "bond_energy = bond_pot(inputs)"
   ]
  }
 ],
 "metadata": {
  "kernelspec": {
   "display_name": "work",
   "language": "python",
   "name": "python3"
  },
  "language_info": {
   "codemirror_mode": {
    "name": "ipython",
    "version": 3
   },
   "file_extension": ".py",
   "mimetype": "text/x-python",
   "name": "python",
   "nbconvert_exporter": "python",
   "pygments_lexer": "ipython3",
   "version": "3.11.7"
  }
 },
 "nbformat": 4,
 "nbformat_minor": 2
}
