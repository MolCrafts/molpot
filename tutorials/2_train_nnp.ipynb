{
 "cells": [
  {
   "cell_type": "code",
   "execution_count": 1,
   "metadata": {},
   "outputs": [],
   "source": [
    "%load_ext autoreload\n",
    "%autoreload 2"
   ]
  },
  {
   "cell_type": "code",
   "execution_count": 2,
   "metadata": {},
   "outputs": [],
   "source": [
    "import molpot as mpot\n",
    "import torch"
   ]
  },
  {
   "cell_type": "code",
   "execution_count": 3,
   "metadata": {},
   "outputs": [
    {
     "name": "stdout",
     "output_type": "stream",
     "text": [
      "627.5094740630659\n",
      "1\n"
     ]
    }
   ],
   "source": [
    "qm9_dataset = mpot.dataset.QM9(\n",
    "        save_dir=\"qm9\", batch_size=3, total=1000, device=\"cpu\"\n",
    "    )\n",
    "dp = qm9_dataset.prepare().calc_nblist(5).atomic_dress(types_list=[1, 6, 7, 8, 9], key=mpot.Alias.Z, prop=mpot.Alias.qm9.U0, buffer=1000).convert_unit(mpot.Alias.qm9.U0, 'kcal/N_A/mol').convert_unit(mpot.Alias.R, 'angstrom')\n",
    "\n",
    "train, valid = dp.random_split(\n",
    "    weights={\"train\": 0.8, \"valid\": 0.2}, seed=42\n",
    ")\n",
    "\n",
    "train_dataloader = mpot.create_dataloader(train)\n",
    "valid_dataloader = mpot.create_dataloader(valid)"
   ]
  },
  {
   "cell_type": "code",
   "execution_count": 4,
   "metadata": {},
   "outputs": [
    {
     "name": "stdout",
     "output_type": "stream",
     "text": [
      "step | epoch |  speed      | loss       | energy_mae\n"
     ]
    },
    {
     "name": "stderr",
     "output_type": "stream",
     "text": [
      "INFO:root:Reach the max step 5\n"
     ]
    },
    {
     "name": "stdout",
     "output_type": "stream",
     "text": [
      "0 | 0 | 2.7183     | 1.1109     | 1.0368    \n"
     ]
    }
   ],
   "source": [
    "n_atom_basis = 10\n",
    "arch = mpot.nnp.PaiNN(\n",
    "    n_atom_basis, 4, mpot.nnp.GaussianRBF(n_atom_basis, 5), mpot.nnp.CosineCutoff(5)\n",
    ")\n",
    "readout = mpot.nnp.Atomwise(n_in = n_atom_basis, n_out=1, n_hidden=None, input_key=mpot.Alias.painn.scalar, output_key=mpot.Alias.energy, aggregation_mode='sum')\n",
    "model = mpot.NNPotential(\"PaiNN\", arch, readout, derive_energy=False)\n",
    "criterion = mpot.MultiMSELoss([1], targets=[(mpot.Alias.energy, mpot.Alias.qm9.U0)])\n",
    "optimizer = torch.optim.Adam(model.parameters(), lr=5e-4)\n",
    "scheduler = torch.optim.lr_scheduler.ExponentialLR(optimizer, 0.9)\n",
    "\n",
    "stagnation = mpot.strategy.Stagnation(mpot.Alias.loss, patience=torch.inf)\n",
    "\n",
    "trainer = mpot.Trainer(\n",
    "    \"painn-qm9\",\n",
    "    model,\n",
    "    criterion,\n",
    "    optimizer,\n",
    "    scheduler,\n",
    "    train_dataloader,\n",
    "    valid_dataloader,\n",
    "    strategies=[stagnation],\n",
    "    logger={\n",
    "        \"metrics\": {\n",
    "            \"speed\": mpot.metric.StepSpeed(),\n",
    "            \"loss\": mpot.metric.Identity(mpot.Alias.loss),\n",
    "            \"energy_mae\": mpot.metric.MAE(\n",
    "                mpot.Alias.energy, mpot.Alias.qm9.U0\n",
    "            ),\n",
    "        },\n",
    "        \"handlers\": [mpot.logger.ConsoleHandler(), mpot.logger.TensorBoardHandler()],\n",
    "        \"save_dir\": \"./log\",\n",
    "    },\n",
    "    config={\n",
    "        \"save_dir\": \"model\",\n",
    "        \"device\": {\"type\": \"cpu\"},\n",
    "        \"compile\": False,\n",
    "        \"report_rate\": 10,\n",
    "        \"valid_rate\": 10000,\n",
    "        \"modify_lr_rate\": 1000,\n",
    "        \"checkpoint_rate\": 10000,\n",
    "    },\n",
    "    train_hooks = [\n",
    "        lambda nstep, model, outputs : torch.nn.utils.clip_grad_norm_(model.parameters(), 0.01),\n",
    "        # lambda nstep, model, outputs : print(outputs[mpot.Alias.energy])\n",
    "    ]\n",
    ")\n",
    "\n",
    "\n",
    "output = trainer.train(5)\n"
   ]
  }
 ],
 "metadata": {
  "kernelspec": {
   "display_name": "work",
   "language": "python",
   "name": "python3"
  },
  "language_info": {
   "codemirror_mode": {
    "name": "ipython",
    "version": 3
   },
   "file_extension": ".py",
   "mimetype": "text/x-python",
   "name": "python",
   "nbconvert_exporter": "python",
   "pygments_lexer": "ipython3",
   "version": "3.11.7"
  }
 },
 "nbformat": 4,
 "nbformat_minor": 2
}
