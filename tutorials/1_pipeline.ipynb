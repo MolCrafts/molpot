{
 "cells": [
  {
   "cell_type": "markdown",
   "metadata": {},
   "source": [
    "# 1. Preparing data pipeline\n",
    "This is the first tutorial about how to use `molpot`, focus on setup your pipeline to load and process data."
   ]
  },
  {
   "cell_type": "code",
   "execution_count": 1,
   "metadata": {},
   "outputs": [],
   "source": [
    "%load_ext autoreload\n",
    "%autoreload 2"
   ]
  },
  {
   "cell_type": "code",
   "execution_count": 2,
   "metadata": {},
   "outputs": [],
   "source": [
    "import molpot as mpot"
   ]
  },
  {
   "cell_type": "code",
   "execution_count": 14,
   "metadata": {},
   "outputs": [
    {
     "name": "stderr",
     "output_type": "stream",
     "text": [
      "[autoreload of molpot.pipline.process failed: Traceback (most recent call last):\n",
      "  File \"/home/jicli594/miniconda3/envs/work/lib/python3.11/site-packages/IPython/extensions/autoreload.py\", line 276, in check\n",
      "    superreload(m, reload, self.old_objects)\n",
      "  File \"/home/jicli594/miniconda3/envs/work/lib/python3.11/site-packages/IPython/extensions/autoreload.py\", line 475, in superreload\n",
      "    module = reload(module)\n",
      "             ^^^^^^^^^^^^^^\n",
      "  File \"/home/jicli594/miniconda3/envs/work/lib/python3.11/importlib/__init__.py\", line 169, in reload\n",
      "    _bootstrap._exec(spec, module)\n",
      "  File \"<frozen importlib._bootstrap>\", line 621, in _exec\n",
      "  File \"<frozen importlib._bootstrap_external>\", line 940, in exec_module\n",
      "  File \"<frozen importlib._bootstrap>\", line 241, in _call_with_frames_removed\n",
      "  File \"/home/jicli594/work/molcrafts/molpot/src/molpot/pipline/process.py\", line 20, in <module>\n",
      "    @functional_datapipe(\"normalize\")\n",
      "     ^^^^^^^^^^^^^^^^^^^^^^^^^^^^^^^^\n",
      "  File \"/home/jicli594/miniconda3/envs/work/lib/python3.11/site-packages/torch/utils/data/datapipes/_decorator.py\", line 34, in __call__\n",
      "    IterDataPipe.register_datapipe_as_function(self.name, cls, enable_df_api_tracing=self.enable_df_api_tracing)\n",
      "  File \"/home/jicli594/miniconda3/envs/work/lib/python3.11/site-packages/torch/utils/data/datapipes/datapipe.py\", line 138, in register_datapipe_as_function\n",
      "    raise Exception(f\"Unable to add DataPipe function name {function_name} as it is already taken\")\n",
      "Exception: Unable to add DataPipe function name normalize as it is already taken\n",
      "]\n",
      "[autoreload of molpot.pipline.readers failed: Traceback (most recent call last):\n",
      "  File \"/home/jicli594/miniconda3/envs/work/lib/python3.11/site-packages/IPython/extensions/autoreload.py\", line 276, in check\n",
      "    superreload(m, reload, self.old_objects)\n",
      "  File \"/home/jicli594/miniconda3/envs/work/lib/python3.11/site-packages/IPython/extensions/autoreload.py\", line 475, in superreload\n",
      "    module = reload(module)\n",
      "             ^^^^^^^^^^^^^^\n",
      "  File \"/home/jicli594/miniconda3/envs/work/lib/python3.11/importlib/__init__.py\", line 169, in reload\n",
      "    _bootstrap._exec(spec, module)\n",
      "  File \"<frozen importlib._bootstrap>\", line 621, in _exec\n",
      "  File \"<frozen importlib._bootstrap_external>\", line 940, in exec_module\n",
      "  File \"<frozen importlib._bootstrap>\", line 241, in _call_with_frames_removed\n",
      "  File \"/home/jicli594/work/molcrafts/molpot/src/molpot/pipline/readers.py\", line 21, in <module>\n",
      "    @functional_datapipe(\"read_chemfiles\")\n",
      "     ^^^^^^^^^^^^^^^^^^^^^^^^^^^^^^^^^^^^^\n",
      "  File \"/home/jicli594/miniconda3/envs/work/lib/python3.11/site-packages/torch/utils/data/datapipes/_decorator.py\", line 34, in __call__\n",
      "    IterDataPipe.register_datapipe_as_function(self.name, cls, enable_df_api_tracing=self.enable_df_api_tracing)\n",
      "  File \"/home/jicli594/miniconda3/envs/work/lib/python3.11/site-packages/torch/utils/data/datapipes/datapipe.py\", line 138, in register_datapipe_as_function\n",
      "    raise Exception(f\"Unable to add DataPipe function name {function_name} as it is already taken\")\n",
      "Exception: Unable to add DataPipe function name read_chemfiles as it is already taken\n",
      "]\n"
     ]
    }
   ],
   "source": [
    "qm9_dataset = mpot.dataset.QM9(\n",
    "        save_dir=\"qm9\", batch_size=3, total=1000, device=\"cpu\"\n",
    "    )\n",
    "dp = qm9_dataset.prepare()\n",
    "\n",
    "train, valid = dp.random_split(\n",
    "    weights={\"train\": 0.8, \"valid\": 0.2}, seed=42\n",
    ")\n",
    "\n",
    "train_dataloader = mpot.create_dataloader(train)\n",
    "valid_dataloader = mpot.create_dataloader(valid)"
   ]
  },
  {
   "cell_type": "code",
   "execution_count": 8,
   "metadata": {},
   "outputs": [
    {
     "name": "stdout",
     "output_type": "stream",
     "text": [
      "Number of reference calculations: 1000\n",
      "Number of train data: 800\n",
      "Number of validation data: 200\n",
      "Available properties:\n",
      "- A\n",
      "- B\n",
      "- C\n",
      "- mu\n",
      "- alpha\n",
      "- homo\n",
      "- lumo\n",
      "- gap\n",
      "- r2\n",
      "- zpve\n",
      "- U0\n",
      "- U\n",
      "- H\n",
      "- G\n",
      "- Cv\n"
     ]
    }
   ],
   "source": [
    "print('Number of reference calculations:', len(qm9_dataset))\n",
    "print('Number of train data:', len(train))\n",
    "print('Number of validation data:', len(valid))\n",
    "print('Available properties:')\n",
    "\n",
    "for p in qm9_dataset.labels:\n",
    "    print('-', p)"
   ]
  },
  {
   "cell_type": "code",
   "execution_count": 11,
   "metadata": {},
   "outputs": [
    {
     "name": "stdout",
     "output_type": "stream",
     "text": [
      "- _n_atoms torch.Size([3])\n",
      "- _idx torch.Size([3])\n",
      "- _A torch.Size([3])\n",
      "- _B torch.Size([3])\n",
      "- _C torch.Size([3])\n",
      "- _mu torch.Size([3])\n",
      "- _alpha torch.Size([3])\n",
      "- _homo torch.Size([3])\n",
      "- _lumo torch.Size([3])\n",
      "- _gap torch.Size([3])\n",
      "- _r2 torch.Size([3])\n",
      "- _zpve torch.Size([3])\n",
      "- _U0 torch.Size([3])\n",
      "- _U torch.Size([3])\n",
      "- _H torch.Size([3])\n",
      "- _G torch.Size([3])\n",
      "- _Cv torch.Size([3])\n",
      "- _xyz torch.Size([12, 3])\n",
      "- _atomic_numbers torch.Size([12])\n",
      "- _cell torch.Size([9, 3])\n",
      "- _pbc torch.Size([9])\n",
      "- _idx_m torch.Size([12])\n"
     ]
    }
   ],
   "source": [
    "for batch in train_dataloader:\n",
    "    for k, v in batch.items():\n",
    "        print(f\"- {k} {v.shape}\")\n",
    "    break"
   ]
  },
  {
   "cell_type": "code",
   "execution_count": 13,
   "metadata": {},
   "outputs": [
    {
     "data": {
      "image/png": "[encoded data removed]",
      "text/plain": [
       "<Figure size 640x480 with 1 Axes>"
      ]
     },
     "metadata": {},
     "output_type": "display_data"
    }
   ],
   "source": [
    "dinspector = mpot.DataInspector(valid_dataloader)\n",
    "dinspector.plot_dist(qm9_dataset.alias.U0)"
   ]
  },
  {
   "cell_type": "code",
   "execution_count": null,
   "metadata": {},
   "outputs": [],
   "source": []
  }
 ],
 "metadata": {
  "kernelspec": {
   "display_name": "work",
   "language": "python",
   "name": "python3"
  },
  "language_info": {
   "codemirror_mode": {
    "name": "ipython",
    "version": 3
   },
   "file_extension": ".py",
   "mimetype": "text/x-python",
   "name": "python",
   "nbconvert_exporter": "python",
   "pygments_lexer": "ipython3",
   "version": "3.11.7"
  }
 },
 "nbformat": 4,
 "nbformat_minor": 2
}
